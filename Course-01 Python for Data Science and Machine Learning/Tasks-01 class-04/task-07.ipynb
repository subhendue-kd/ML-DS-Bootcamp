{
 "cells": [
  {
   "cell_type": "markdown",
   "id": "410e870b-7c9a-487f-8660-85e5baa3012a",
   "metadata": {},
   "source": [
    "7. Read the wine.csv dataset as Pandas DataFrame and show (in another notebook):\r\n",
    "- head()\r\n",
    "- Show the entry of the 7th row, the last column.\r\n",
    "- Save the 1st 10 rows as a Pickle file."
   ]
  },
  {
   "cell_type": "code",
   "execution_count": 6,
   "id": "73fff22b-0ac3-4018-aa5e-70678fcb65f5",
   "metadata": {},
   "outputs": [
    {
     "data": {
      "text/html": [
       "<div>\n",
       "<style scoped>\n",
       "    .dataframe tbody tr th:only-of-type {\n",
       "        vertical-align: middle;\n",
       "    }\n",
       "\n",
       "    .dataframe tbody tr th {\n",
       "        vertical-align: top;\n",
       "    }\n",
       "\n",
       "    .dataframe thead th {\n",
       "        text-align: right;\n",
       "    }\n",
       "</style>\n",
       "<table border=\"1\" class=\"dataframe\">\n",
       "  <thead>\n",
       "    <tr style=\"text-align: right;\">\n",
       "      <th></th>\n",
       "      <th>0</th>\n",
       "      <th>1</th>\n",
       "      <th>2</th>\n",
       "      <th>3</th>\n",
       "      <th>4</th>\n",
       "      <th>5</th>\n",
       "    </tr>\n",
       "  </thead>\n",
       "  <tbody>\n",
       "    <tr>\n",
       "      <th>0</th>\n",
       "      <td>NaN</td>\n",
       "      <td>item_code</td>\n",
       "      <td>item_name</td>\n",
       "      <td>display_level</td>\n",
       "      <td>selectable</td>\n",
       "      <td>sort_sequence</td>\n",
       "    </tr>\n",
       "    <tr>\n",
       "      <th>1</th>\n",
       "      <td>0.0</td>\n",
       "      <td>AA0</td>\n",
       "      <td>All items - old base</td>\n",
       "      <td>0</td>\n",
       "      <td>T</td>\n",
       "      <td>2</td>\n",
       "    </tr>\n",
       "    <tr>\n",
       "      <th>2</th>\n",
       "      <td>1.0</td>\n",
       "      <td>AA0R</td>\n",
       "      <td>Purchasing power of the consumer dollar - old ...</td>\n",
       "      <td>0</td>\n",
       "      <td>T</td>\n",
       "      <td>400</td>\n",
       "    </tr>\n",
       "    <tr>\n",
       "      <th>3</th>\n",
       "      <td>2.0</td>\n",
       "      <td>SA0</td>\n",
       "      <td>All items</td>\n",
       "      <td>0</td>\n",
       "      <td>T</td>\n",
       "      <td>1</td>\n",
       "    </tr>\n",
       "    <tr>\n",
       "      <th>4</th>\n",
       "      <td>3.0</td>\n",
       "      <td>SA0E</td>\n",
       "      <td>Energy</td>\n",
       "      <td>1</td>\n",
       "      <td>T</td>\n",
       "      <td>375</td>\n",
       "    </tr>\n",
       "    <tr>\n",
       "      <th>5</th>\n",
       "      <td>4.0</td>\n",
       "      <td>SA0L1</td>\n",
       "      <td>All items less food</td>\n",
       "      <td>1</td>\n",
       "      <td>T</td>\n",
       "      <td>359</td>\n",
       "    </tr>\n",
       "    <tr>\n",
       "      <th>6</th>\n",
       "      <td>5.0</td>\n",
       "      <td>SA0L12</td>\n",
       "      <td>All items less food and shelter</td>\n",
       "      <td>1</td>\n",
       "      <td>T</td>\n",
       "      <td>362</td>\n",
       "    </tr>\n",
       "    <tr>\n",
       "      <th>7</th>\n",
       "      <td>6.0</td>\n",
       "      <td>SA0L12E</td>\n",
       "      <td>All items less food, shelter, and energy</td>\n",
       "      <td>1</td>\n",
       "      <td>T</td>\n",
       "      <td>363</td>\n",
       "    </tr>\n",
       "    <tr>\n",
       "      <th>8</th>\n",
       "      <td>7.0</td>\n",
       "      <td>SA0L12E4</td>\n",
       "      <td>All items less food, shelter, energy, and used...</td>\n",
       "      <td>1</td>\n",
       "      <td>T</td>\n",
       "      <td>364</td>\n",
       "    </tr>\n",
       "    <tr>\n",
       "      <th>9</th>\n",
       "      <td>8.0</td>\n",
       "      <td>SA0L1E</td>\n",
       "      <td>All items less food and energy</td>\n",
       "      <td>1</td>\n",
       "      <td>T</td>\n",
       "      <td>360</td>\n",
       "    </tr>\n",
       "  </tbody>\n",
       "</table>\n",
       "</div>"
      ],
      "text/plain": [
       "     0          1                                                  2  \\\n",
       "0  NaN  item_code                                          item_name   \n",
       "1  0.0        AA0                               All items - old base   \n",
       "2  1.0       AA0R  Purchasing power of the consumer dollar - old ...   \n",
       "3  2.0        SA0                                          All items   \n",
       "4  3.0       SA0E                                             Energy   \n",
       "5  4.0      SA0L1                                All items less food   \n",
       "6  5.0     SA0L12                    All items less food and shelter   \n",
       "7  6.0    SA0L12E           All items less food, shelter, and energy   \n",
       "8  7.0   SA0L12E4  All items less food, shelter, energy, and used...   \n",
       "9  8.0     SA0L1E                     All items less food and energy   \n",
       "\n",
       "               3           4              5  \n",
       "0  display_level  selectable  sort_sequence  \n",
       "1              0           T              2  \n",
       "2              0           T            400  \n",
       "3              0           T              1  \n",
       "4              1           T            375  \n",
       "5              1           T            359  \n",
       "6              1           T            362  \n",
       "7              1           T            363  \n",
       "8              1           T            364  \n",
       "9              1           T            360  "
      ]
     },
     "execution_count": 6,
     "metadata": {},
     "output_type": "execute_result"
    }
   ],
   "source": [
    "import pandas as pd\n",
    "import numpy as np\n",
    "wine=pd.read_csv('..\\Mentor file github file\\Course 1. Python for Data Science & Machine Learning\\datasets\\wine.csv',header=None)\n",
    "wine.head(10)"
   ]
  },
  {
   "cell_type": "code",
   "execution_count": 18,
   "id": "bb0e274e-6ad7-4331-850a-391cc4322cfa",
   "metadata": {},
   "outputs": [
    {
     "name": "stdout",
     "output_type": "stream",
     "text": [
      "363\n"
     ]
    }
   ],
   "source": [
    "#Show the entry of the 7th row, the last column.\n",
    "\n",
    "print(wine.iloc[7,-1]) #loc[row_index_OR_NAME,col_index_OR_NAME] and iloc only index number\n"
   ]
  },
  {
   "cell_type": "code",
   "execution_count": 17,
   "id": "e64486e4-2c7f-4a68-a8af-8741c9ee5340",
   "metadata": {},
   "outputs": [
    {
     "name": "stdout",
     "output_type": "stream",
     "text": [
      "     0          1                                                  2  \\\n",
      "0  NaN  item_code                                          item_name   \n",
      "1  0.0        AA0                               All items - old base   \n",
      "2  1.0       AA0R  Purchasing power of the consumer dollar - old ...   \n",
      "3  2.0        SA0                                          All items   \n",
      "4  3.0       SA0E                                             Energy   \n",
      "5  4.0      SA0L1                                All items less food   \n",
      "6  5.0     SA0L12                    All items less food and shelter   \n",
      "7  6.0    SA0L12E           All items less food, shelter, and energy   \n",
      "8  7.0   SA0L12E4  All items less food, shelter, energy, and used...   \n",
      "\n",
      "               3           4              5  \n",
      "0  display_level  selectable  sort_sequence  \n",
      "1              0           T              2  \n",
      "2              0           T            400  \n",
      "3              0           T              1  \n",
      "4              1           T            375  \n",
      "5              1           T            359  \n",
      "6              1           T            362  \n",
      "7              1           T            363  \n",
      "8              1           T            364  \n"
     ]
    }
   ],
   "source": [
    "\n",
    "#Save the 1st 10 rows as a Pickle file.\n",
    "\n",
    "wine2=wine.iloc[0:9] #row er index akane, column nai column thakle koma lage\n",
    "print(wine2) "
   ]
  },
  {
   "cell_type": "code",
   "execution_count": 19,
   "id": "899fdb1b-2560-4d77-b0e6-afeae808b063",
   "metadata": {},
   "outputs": [
    {
     "name": "stdout",
     "output_type": "stream",
     "text": [
      "     0          1                                                  2  \\\n",
      "0  NaN  item_code                                          item_name   \n",
      "1  0.0        AA0                               All items - old base   \n",
      "2  1.0       AA0R  Purchasing power of the consumer dollar - old ...   \n",
      "3  2.0        SA0                                          All items   \n",
      "4  3.0       SA0E                                             Energy   \n",
      "5  4.0      SA0L1                                All items less food   \n",
      "6  5.0     SA0L12                    All items less food and shelter   \n",
      "7  6.0    SA0L12E           All items less food, shelter, and energy   \n",
      "8  7.0   SA0L12E4  All items less food, shelter, energy, and used...   \n",
      "\n",
      "               3           4              5  \n",
      "0  display_level  selectable  sort_sequence  \n",
      "1              0           T              2  \n",
      "2              0           T            400  \n",
      "3              0           T              1  \n",
      "4              1           T            375  \n",
      "5              1           T            359  \n",
      "6              1           T            362  \n",
      "7              1           T            363  \n",
      "8              1           T            364  \n"
     ]
    }
   ],
   "source": [
    "wine2.to_pickle('pick.pkl')\n",
    "wine3=pd.read_pickle('pick.pkl')\n",
    "print(wine3)"
   ]
  },
  {
   "cell_type": "code",
   "execution_count": null,
   "id": "e67679f6-af0f-4032-a16b-0f5ef4f0d49b",
   "metadata": {},
   "outputs": [],
   "source": []
  }
 ],
 "metadata": {
  "kernelspec": {
   "display_name": "Python 3 (ipykernel)",
   "language": "python",
   "name": "python3"
  },
  "language_info": {
   "codemirror_mode": {
    "name": "ipython",
    "version": 3
   },
   "file_extension": ".py",
   "mimetype": "text/x-python",
   "name": "python",
   "nbconvert_exporter": "python",
   "pygments_lexer": "ipython3",
   "version": "3.10.10"
  }
 },
 "nbformat": 4,
 "nbformat_minor": 5
}
