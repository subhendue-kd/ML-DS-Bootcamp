{
 "cells": [
  {
   "cell_type": "code",
   "execution_count": 8,
   "id": "5982ea89-6d53-466a-9686-bc4c5458ddd8",
   "metadata": {},
   "outputs": [
    {
     "name": "stdout",
     "output_type": "stream",
     "text": [
      "Enter the given String= \n"
     ]
    },
    {
     "name": "stdin",
     "output_type": "stream",
     "text": [
      " ff\n"
     ]
    },
    {
     "name": "stdout",
     "output_type": "stream",
     "text": [
      "ffff\n"
     ]
    }
   ],
   "source": [
    "##5. Repeat Input String. e.g Input: \"XYZ\" -> Output: \"XYZXYZ\"\n",
    "print(\"Enter the given String= \")\n",
    "str = input()\n",
    "print(str*2)\n"
   ]
  },
  {
   "cell_type": "code",
   "execution_count": null,
   "id": "cfb3a6e7-a8a6-4a30-a479-a8c4b86fc23c",
   "metadata": {},
   "outputs": [],
   "source": []
  }
 ],
 "metadata": {
  "kernelspec": {
   "display_name": "Python 3 (ipykernel)",
   "language": "python",
   "name": "python3"
  },
  "language_info": {
   "codemirror_mode": {
    "name": "ipython",
    "version": 3
   },
   "file_extension": ".py",
   "mimetype": "text/x-python",
   "name": "python",
   "nbconvert_exporter": "python",
   "pygments_lexer": "ipython3",
   "version": "3.10.10"
  }
 },
 "nbformat": 4,
 "nbformat_minor": 5
}
