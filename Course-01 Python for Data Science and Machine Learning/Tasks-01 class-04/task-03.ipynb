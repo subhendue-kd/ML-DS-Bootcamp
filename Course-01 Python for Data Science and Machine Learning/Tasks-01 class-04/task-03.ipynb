{
 "cells": [
  {
   "cell_type": "code",
   "execution_count": 37,
   "id": "4f130782-7b8b-46ba-b494-5537a26336f9",
   "metadata": {},
   "outputs": [
    {
     "name": "stdin",
     "output_type": "stream",
     "text": [
      "Enter a string: r\n"
     ]
    },
    {
     "name": "stdout",
     "output_type": "stream",
     "text": [
      "0\n"
     ]
    }
   ],
   "source": [
    "'''3. Write a function to convert the vowels of a string into 1 and consonants into 0. For example:\n",
    "If the input is \"abcde\", the output will be \"10001\".'''\n",
    "\n",
    "i=(input(\"Enter a string:\"))\n",
    "\n",
    "if (i=='a' or i=='e'or i=='i' or i=='o' or i=='u'or i=='A' or i=='E' or i=='i' or i=='O'):\n",
    "    print(1)\n",
    "else:\n",
    "    print(0)\n",
    "\n",
    "\n",
    "               "
   ]
  },
  {
   "cell_type": "code",
   "execution_count": null,
   "id": "53c35dbd-096b-4b76-bac1-136fdbb164a9",
   "metadata": {},
   "outputs": [],
   "source": []
  },
  {
   "cell_type": "code",
   "execution_count": null,
   "id": "f5568761-5782-432f-944e-1dc4977689e0",
   "metadata": {},
   "outputs": [],
   "source": []
  },
  {
   "cell_type": "code",
   "execution_count": null,
   "id": "64a8c84b-4fef-4138-a4ad-121acca33a9e",
   "metadata": {},
   "outputs": [],
   "source": []
  }
 ],
 "metadata": {
  "kernelspec": {
   "display_name": "Python 3 (ipykernel)",
   "language": "python",
   "name": "python3"
  },
  "language_info": {
   "codemirror_mode": {
    "name": "ipython",
    "version": 3
   },
   "file_extension": ".py",
   "mimetype": "text/x-python",
   "name": "python",
   "nbconvert_exporter": "python",
   "pygments_lexer": "ipython3",
   "version": "3.10.10"
  }
 },
 "nbformat": 4,
 "nbformat_minor": 5
}
