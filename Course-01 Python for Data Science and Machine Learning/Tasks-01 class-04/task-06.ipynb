{
 "cells": [
  {
   "cell_type": "code",
   "execution_count": 1,
   "id": "10a8e9f6-3e65-45bc-be4f-964954b5c5ad",
   "metadata": {},
   "outputs": [
    {
     "name": "stdout",
     "output_type": "stream",
     "text": [
      "('ux1P5', 'z1aP')\n"
     ]
    }
   ],
   "source": [
    "'''Use FILTER() to show an array/list of elements with \"P\" inside. Input: [ \"ux1P5\", \"rt0\", \"ft3\", \"z1aP\" ] ->  \n",
    "Output: [ \"ux1P5\", \"z1aP\" ]'''\n",
    "\n",
    "\n",
    "list1 = [ \"ux1P5\", \"rt0\", \"ft3\", \"z1aP\" ]\n",
    "\n",
    "# a function that returns True if letter is vowel\n",
    "def filter_fun(letter):\n",
    "    x= [ \"ux1P5\", \"z1aP\" ]\n",
    "    if letter in x:\n",
    "        return True \n",
    "    else:\n",
    "        return False\n",
    "\n",
    "filtered_words = filter(filter_fun, list1)\n",
    "\n",
    "# converting to tuple\n",
    "vowels = tuple(filtered_words)\n",
    "print(vowels)\n"
   ]
  },
  {
   "cell_type": "code",
   "execution_count": 5,
   "id": "dbfc7415-20a4-4507-ac81-65e17138d26a",
   "metadata": {},
   "outputs": [
    {
     "name": "stdin",
     "output_type": "stream",
     "text": [
      " b\n"
     ]
    },
    {
     "name": "stdout",
     "output_type": "stream",
     "text": [
      "['b']\n",
      "['bP']\n"
     ]
    }
   ],
   "source": [
    "''' Use MAP() to add a \"P\" if \"P\" is not there. Input: [ \"ux1P5\", \"rt0\", \"ft3\", \"z1aP\" ] ->  Output: [ \"ux1P5\", \"rt0P\", \"ft3P\", \"z1aP\" ]'''\n",
    "\n",
    "def add_p(string):\n",
    "    if 'P' not in string:\n",
    "        string+='P'\n",
    "        return string\n",
    "    else:\n",
    "        return string\n",
    "    \n",
    "my=input().split()\n",
    "print(my)\n",
    "out = list(map(add_p,my))\n",
    "print(out)\n",
    "  "
   ]
  },
  {
   "cell_type": "code",
   "execution_count": 16,
   "id": "ccad0a33-4630-487d-83f4-fdc0d4ce33b7",
   "metadata": {},
   "outputs": [
    {
     "name": "stdout",
     "output_type": "stream",
     "text": [
      "[10]\n"
     ]
    }
   ],
   "source": [
    "'''Use REDUCE() to get the sum of this list: [1, 2, 3, 4] -> [10] '''\n",
    "from functools import reduce \n",
    "\n",
    "nums = [1, 2, 3, 4]\n",
    "ans =reduce(lambda x, y: x + y, nums)\n",
    "print([ans])\n"
   ]
  },
  {
   "cell_type": "code",
   "execution_count": null,
   "id": "c8a85e64-c08d-421e-ac15-a9740e6e29b2",
   "metadata": {},
   "outputs": [],
   "source": []
  },
  {
   "cell_type": "code",
   "execution_count": null,
   "id": "1037f711-eb49-473b-a098-b4fcc26b8bb9",
   "metadata": {},
   "outputs": [],
   "source": []
  }
 ],
 "metadata": {
  "kernelspec": {
   "display_name": "Python 3 (ipykernel)",
   "language": "python",
   "name": "python3"
  },
  "language_info": {
   "codemirror_mode": {
    "name": "ipython",
    "version": 3
   },
   "file_extension": ".py",
   "mimetype": "text/x-python",
   "name": "python",
   "nbconvert_exporter": "python",
   "pygments_lexer": "ipython3",
   "version": "3.10.10"
  }
 },
 "nbformat": 4,
 "nbformat_minor": 5
}
