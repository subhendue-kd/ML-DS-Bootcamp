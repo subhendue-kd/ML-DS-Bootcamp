{
 "cells": [
  {
   "cell_type": "code",
   "execution_count": 18,
   "id": "61f92be2-fc38-4075-86c7-f18fc2bc60d9",
   "metadata": {},
   "outputs": [
    {
     "name": "stdin",
     "output_type": "stream",
     "text": [
      "Enter the first number=  1\n",
      "Enter the second number= 1\n",
      "Enter the third number= 2\n"
     ]
    },
    {
     "name": "stdout",
     "output_type": "stream",
     "text": [
      "The largest number is= 2.0\n"
     ]
    }
   ],
   "source": [
    "#Write a function to get the largest number between 3. Apply that function to show an example.\n",
    "num1=float(input('Enter the first number= '))\n",
    "num2=float(input('Enter the second number='))\n",
    "num3=float(input('Enter the third number='))\n",
    "if (num1>=num2)and(num1>=num3):\n",
    "     print('The largest number is=',num1)\n",
    "elif (num2>=num1)and(num2>=num3):\n",
    "    print('The largest number is=',num2)\n",
    "else:\n",
    "    print('The largest number is=',num3)\n",
    "\n",
    "\n",
    "        \n",
    "    \n",
    "    "
   ]
  },
  {
   "cell_type": "code",
   "execution_count": null,
   "id": "e8318875-60e2-4e63-a36f-ef281a603e8c",
   "metadata": {},
   "outputs": [],
   "source": [
    "\n"
   ]
  }
 ],
 "metadata": {
  "kernelspec": {
   "display_name": "Python 3 (ipykernel)",
   "language": "python",
   "name": "python3"
  },
  "language_info": {
   "codemirror_mode": {
    "name": "ipython",
    "version": 3
   },
   "file_extension": ".py",
   "mimetype": "text/x-python",
   "name": "python",
   "nbconvert_exporter": "python",
   "pygments_lexer": "ipython3",
   "version": "3.10.10"
  }
 },
 "nbformat": 4,
 "nbformat_minor": 5
}
