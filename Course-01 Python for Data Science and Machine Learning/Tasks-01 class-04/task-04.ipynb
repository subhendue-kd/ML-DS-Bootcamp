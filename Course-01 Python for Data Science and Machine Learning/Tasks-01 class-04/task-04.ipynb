{
 "cells": [
  {
   "cell_type": "code",
   "execution_count": 33,
   "id": "3745cca1-86c8-4be1-832a-495de73b8768",
   "metadata": {},
   "outputs": [
    {
     "name": "stdin",
     "output_type": "stream",
     "text": [
      "Enter two  numb: 2 2\n"
     ]
    },
    {
     "name": "stdout",
     "output_type": "stream",
     "text": [
      "4.0\n",
      "0.0\n",
      "4.0\n",
      "1.0\n"
     ]
    }
   ],
   "source": [
    "a,b=map(float,input(\"Enter two  numb:\").split())\n",
    "\n",
    "\n",
    "\n",
    "###add###\n",
    "def addition(a,b):\n",
    "    sum=a+b\n",
    "    return(sum)\n",
    "w=addition(a,b)\n",
    "print(\"add=\",w)\n",
    "\n",
    "\n",
    "###subtraction###\n",
    "def subtraction(a,b):\n",
    "    sub=a-b\n",
    "    return(sub)\n",
    "x=subtraction(a,b)\n",
    "print(\"sub=\",x)\n",
    "\n",
    "\n",
    "###multiple###\n",
    "\n",
    "def multiple(a,b):\n",
    "    mul=a*b\n",
    "    return(mul)\n",
    "y=multiple(a,b)\n",
    "print(\"y)\n",
    "\n",
    "\n",
    "###division###\n",
    "def division(a,b):\n",
    "    div=a/b\n",
    "    return(div)\n",
    "z=division(a,b)\n",
    "print(z)\n",
    "\n",
    "\n"
   ]
  }
 ],
 "metadata": {
  "kernelspec": {
   "display_name": "Python 3 (ipykernel)",
   "language": "python",
   "name": "python3"
  },
  "language_info": {
   "codemirror_mode": {
    "name": "ipython",
    "version": 3
   },
   "file_extension": ".py",
   "mimetype": "text/x-python",
   "name": "python",
   "nbconvert_exporter": "python",
   "pygments_lexer": "ipython3",
   "version": "3.10.10"
  }
 },
 "nbformat": 4,
 "nbformat_minor": 5
}
