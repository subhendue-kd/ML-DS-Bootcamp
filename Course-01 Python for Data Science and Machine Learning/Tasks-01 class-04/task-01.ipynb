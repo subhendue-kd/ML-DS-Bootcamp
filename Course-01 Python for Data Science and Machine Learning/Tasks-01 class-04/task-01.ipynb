{
 "cells": [
  {
   "cell_type": "code",
   "execution_count": 1,
   "id": "227a6889-cdf7-4f6f-88db-dcc5cb9520a8",
   "metadata": {},
   "outputs": [
    {
     "name": "stdin",
     "output_type": "stream",
     "text": [
      "Please enter the radius of a circle: 6\n"
     ]
    },
    {
     "name": "stdout",
     "output_type": "stream",
     "text": [
      "Area= 113.04 unit\n"
     ]
    }
   ],
   "source": [
    "#1.Find the area of a circle. Input should be taken with float(input()).\n",
    "#See the attached area_of_rectangle.py file to get an idea of a Python Program.\n",
    "redius = float(input('Please enter the radius of a circle:'))\n",
    "pi=3.14\n",
    "def area_of_circle(redius,pi):\n",
    "    return (redius*redius)*pi\n",
    "    \n",
    "area = area_of_circle(redius,pi)\n",
    "print('Area=',area,'unit')\n",
    "\n",
    "\n",
    "\n"
   ]
  },
  {
   "cell_type": "code",
   "execution_count": null,
   "id": "7651ee72-c0e3-4088-af8e-ab30dab3f994",
   "metadata": {},
   "outputs": [],
   "source": []
  }
 ],
 "metadata": {
  "kernelspec": {
   "display_name": "Python 3 (ipykernel)",
   "language": "python",
   "name": "python3"
  },
  "language_info": {
   "codemirror_mode": {
    "name": "ipython",
    "version": 3
   },
   "file_extension": ".py",
   "mimetype": "text/x-python",
   "name": "python",
   "nbconvert_exporter": "python",
   "pygments_lexer": "ipython3",
   "version": "3.10.10"
  }
 },
 "nbformat": 4,
 "nbformat_minor": 5
}
