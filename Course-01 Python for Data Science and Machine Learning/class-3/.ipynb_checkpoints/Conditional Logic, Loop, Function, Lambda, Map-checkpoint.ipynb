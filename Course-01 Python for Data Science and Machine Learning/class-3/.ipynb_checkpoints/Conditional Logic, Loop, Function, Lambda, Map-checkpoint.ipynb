{
 "cells": [
  {
   "cell_type": "code",
   "execution_count": 5,
   "id": "1d514839-f96e-493e-8ac6-04e9b0549a15",
   "metadata": {},
   "outputs": [
    {
     "name": "stdout",
     "output_type": "stream",
     "text": [
      "equal\n"
     ]
    }
   ],
   "source": [
    "#Conditional operator\n",
    "a=50\n",
    "b=50\n",
    "if a>b:\n",
    "    print(a)\n",
    "elif a==b:\n",
    "    print(\"equal\")\n",
    "else:\n",
    "    print(b)\n",
    "    \n"
   ]
  },
  {
   "cell_type": "code",
   "execution_count": 9,
   "id": "79f4ebdf-b0c9-4f50-b174-7f02e5b225e6",
   "metadata": {},
   "outputs": [
    {
     "name": "stdout",
     "output_type": "stream",
     "text": [
      "b\n"
     ]
    }
   ],
   "source": [
    "#Nested loop\n",
    "a=10\n",
    "b=40\n",
    "c=20\n",
    "if a>b:\n",
    "    if a>c:\n",
    "     print(\"a\")\n",
    "    else:\n",
    "     print(\"c\")\n",
    "else:\n",
    "    if b>c:\n",
    "        print(\"b\")\n",
    "    else:\n",
    "        print(\"c\")"
   ]
  },
  {
   "cell_type": "code",
   "execution_count": 14,
   "id": "642ec362-71c5-4838-b460-a5e821326e2a",
   "metadata": {},
   "outputs": [
    {
     "name": "stdout",
     "output_type": "stream",
     "text": [
      "1\n",
      "2\n",
      "3\n",
      "4\n",
      "5\n",
      "7\n",
      "8\n",
      "9\n",
      "10\n",
      "done\n"
     ]
    }
   ],
   "source": [
    "#LOOP\n",
    "n=1\n",
    "while n<=10:\n",
    "    if n==6:\n",
    "        n=n+1 #incriment\n",
    "        continue\n",
    "    print(n)\n",
    "    n=n+1 #incriment\n",
    "print(\"done\")"
   ]
  },
  {
   "cell_type": "code",
   "execution_count": 16,
   "id": "ec7a797e-5d37-44ae-8cd4-9ff7bdbfe7f7",
   "metadata": {},
   "outputs": [
    {
     "name": "stdout",
     "output_type": "stream",
     "text": [
      "0\n",
      "1\n",
      "2\n",
      "3\n",
      "4\n",
      "5\n",
      "6\n",
      "7\n",
      "8\n",
      "9\n"
     ]
    }
   ],
   "source": [
    "# For loop\n",
    "for i in range(10): #(0,10,1) (initialization,condition,post statement)\n",
    "    print(i)"
   ]
  },
  {
   "cell_type": "code",
   "execution_count": 17,
   "id": "83b34427-e38e-4fe3-a487-72fef7c25260",
   "metadata": {},
   "outputs": [
    {
     "name": "stdout",
     "output_type": "stream",
     "text": [
      "5\n",
      "10\n",
      "15\n"
     ]
    }
   ],
   "source": [
    "for i in range(5,20,5):\n",
    "    print(i)"
   ]
  },
  {
   "cell_type": "code",
   "execution_count": 18,
   "id": "1b09650d-d2f7-4d02-8dcf-cd82272efedf",
   "metadata": {},
   "outputs": [
    {
     "name": "stdout",
     "output_type": "stream",
     "text": [
      "tomato\n",
      "potato\n",
      "ladyfingure\n"
     ]
    }
   ],
   "source": [
    "veg=[\"tomato\",\"potato\",\"ladyfingure\"]\n",
    "for v in veg:\n",
    "    print(v)"
   ]
  },
  {
   "cell_type": "code",
   "execution_count": 19,
   "id": "19500035-24ac-4060-a133-3cc427eda28a",
   "metadata": {},
   "outputs": [
    {
     "name": "stdout",
     "output_type": "stream",
     "text": [
      "a\n",
      "b\n",
      "c\n"
     ]
    }
   ],
   "source": [
    "dict={'A':'a','B':'b','C':'c'}\n",
    "for letter in dict.values():\n",
    "    print(letter)\n",
    "    "
   ]
  },
  {
   "cell_type": "code",
   "execution_count": 20,
   "id": "8d9d4383-8d44-495a-b86c-d4da4d5947ac",
   "metadata": {},
   "outputs": [
    {
     "name": "stdout",
     "output_type": "stream",
     "text": [
      "10 x 1 = 10\n",
      "10 x 2 = 20\n",
      "10 x 3 = 30\n",
      "10 x 4 = 40\n",
      "10 x 5 = 50\n",
      "10 x 6 = 60\n",
      "10 x 7 = 70\n",
      "10 x 8 = 80\n",
      "10 x 9 = 90\n",
      "10 x 10 = 100\n"
     ]
    }
   ],
   "source": [
    "m=1\n",
    "n=10\n",
    "while m<=10:\n",
    "    print(n,'x',m, '=',n*m)\n",
    "    m=m+1"
   ]
  },
  {
   "cell_type": "code",
   "execution_count": 27,
   "id": "51edcbae-3d90-4712-bd7c-4e333cccd7a3",
   "metadata": {},
   "outputs": [],
   "source": [
    "#Function\n",
    "def my_pet(name): #parameter\n",
    "    return name   #output\n"
   ]
  },
  {
   "cell_type": "code",
   "execution_count": 28,
   "id": "02fdf20d-d65a-461d-8682-4472de65e786",
   "metadata": {},
   "outputs": [
    {
     "data": {
      "text/plain": [
       "'tiger'"
      ]
     },
     "execution_count": 28,
     "metadata": {},
     "output_type": "execute_result"
    }
   ],
   "source": [
    "my_pet(\"tiger\")"
   ]
  },
  {
   "cell_type": "code",
   "execution_count": 29,
   "id": "8aaedaa0-1dbe-4ec8-b238-bdfe250685d2",
   "metadata": {},
   "outputs": [
    {
     "data": {
      "text/plain": [
       "25"
      ]
     },
     "execution_count": 29,
     "metadata": {},
     "output_type": "execute_result"
    }
   ],
   "source": [
    "#Lamda function\n",
    "sum=lambda a,b:a+b\n",
    "sum(10,15)\n",
    "\n"
   ]
  },
  {
   "cell_type": "code",
   "execution_count": 30,
   "id": "5d08758c-8686-485e-87d2-6a239a94eed6",
   "metadata": {},
   "outputs": [
    {
     "name": "stdout",
     "output_type": "stream",
     "text": [
      "{1, 4, 9, 16, 25}\n"
     ]
    }
   ],
   "source": [
    "#map function\n",
    "l=[1,2,3,4,5]\n",
    "square=lambda n:n*n\n",
    "new=map(square,l)\n",
    "m=set(new)\n",
    "print(m)\n",
    "\n"
   ]
  },
  {
   "cell_type": "code",
   "execution_count": null,
   "id": "e9c8833f-640d-461c-9807-a38a0981f7d0",
   "metadata": {},
   "outputs": [],
   "source": []
  }
 ],
 "metadata": {
  "kernelspec": {
   "display_name": "Python 3 (ipykernel)",
   "language": "python",
   "name": "python3"
  },
  "language_info": {
   "codemirror_mode": {
    "name": "ipython",
    "version": 3
   },
   "file_extension": ".py",
   "mimetype": "text/x-python",
   "name": "python",
   "nbconvert_exporter": "python",
   "pygments_lexer": "ipython3",
   "version": "3.10.10"
  }
 },
 "nbformat": 4,
 "nbformat_minor": 5
}
