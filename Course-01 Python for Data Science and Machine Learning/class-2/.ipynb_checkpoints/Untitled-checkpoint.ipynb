{
 "cells": [
  {
   "cell_type": "code",
   "execution_count": 50,
   "id": "a7c37d86-759f-4ac1-bc70-002a2d009425",
   "metadata": {},
   "outputs": [
    {
     "data": {
      "text/plain": [
       "['tw', 'www', 'zww', 'xw', 'fww', 'tirtho']"
      ]
     },
     "execution_count": 50,
     "metadata": {},
     "output_type": "execute_result"
    }
   ],
   "source": [
    "list_1 =['tw','www','zww','xw','fww']\n",
    "list_1.append(\"tirtho\")\n",
    "list_1\n"
   ]
  },
  {
   "cell_type": "code",
   "execution_count": 51,
   "id": "99cea50e-a2a5-4fe2-a84a-a680ec820ba9",
   "metadata": {},
   "outputs": [
    {
     "data": {
      "text/plain": [
       "['tw', 'www', 'kuet', 'zww', 'xw', 'fww', 'tirtho']"
      ]
     },
     "execution_count": 51,
     "metadata": {},
     "output_type": "execute_result"
    }
   ],
   "source": [
    "list_1.insert(2,\"kuet\")\n",
    "list_1"
   ]
  },
  {
   "cell_type": "code",
   "execution_count": null,
   "id": "d9646db3-8015-4a30-829d-bd5b5414efd3",
   "metadata": {},
   "outputs": [],
   "source": [
    "list_2="
   ]
  }
 ],
 "metadata": {
  "kernelspec": {
   "display_name": "Python 3 (ipykernel)",
   "language": "python",
   "name": "python3"
  },
  "language_info": {
   "codemirror_mode": {
    "name": "ipython",
    "version": 3
   },
   "file_extension": ".py",
   "mimetype": "text/x-python",
   "name": "python",
   "nbconvert_exporter": "python",
   "pygments_lexer": "ipython3",
   "version": "3.10.10"
  }
 },
 "nbformat": 4,
 "nbformat_minor": 5
}
