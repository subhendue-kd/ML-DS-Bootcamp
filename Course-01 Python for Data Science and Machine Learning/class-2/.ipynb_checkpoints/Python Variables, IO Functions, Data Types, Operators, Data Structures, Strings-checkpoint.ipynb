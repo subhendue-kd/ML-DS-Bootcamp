{
 "cells": [
  {
   "cell_type": "code",
   "execution_count": 16,
   "id": "a7c37d86-759f-4ac1-bc70-002a2d009425",
   "metadata": {},
   "outputs": [
    {
     "data": {
      "text/plain": [
       "['tw', 'www', 'zww', 'xw', 'fww', 'H', 'H']"
      ]
     },
     "execution_count": 16,
     "metadata": {},
     "output_type": "execute_result"
    }
   ],
   "source": [
    "list_1 =['tw','www','zww','xw','fww']\n",
    "list_2=[1,2,3,4]\n",
    "list_1+=['H','H']\n",
    "list_1"
   ]
  },
  {
   "cell_type": "code",
   "execution_count": 26,
   "id": "123c1b20-a66d-460b-bb52-d6657aa83b76",
   "metadata": {},
   "outputs": [
    {
     "data": {
      "text/plain": [
       "4"
      ]
     },
     "execution_count": 26,
     "metadata": {},
     "output_type": "execute_result"
    }
   ],
   "source": [
    "tup=('a','b','c')\n",
    "tup_1=tup +('d',)\n",
    "len (tup_1)\n"
   ]
  },
  {
   "cell_type": "code",
   "execution_count": 27,
   "id": "34327d7e-01db-4950-9cf0-96cc2d492153",
   "metadata": {},
   "outputs": [
    {
     "data": {
      "text/plain": [
       "'aaa'"
      ]
     },
     "execution_count": 27,
     "metadata": {},
     "output_type": "execute_result"
    }
   ],
   "source": [
    "dict={'A':'aaa','B':'bbb','C':'ccc'}\n",
    "dict['A']\n"
   ]
  },
  {
   "cell_type": "code",
   "execution_count": 28,
   "id": "fadc07e1-ad52-43d5-a774-15174d94505e",
   "metadata": {},
   "outputs": [
    {
     "data": {
      "text/plain": [
       "dict_keys(['A', 'B', 'C'])"
      ]
     },
     "execution_count": 28,
     "metadata": {},
     "output_type": "execute_result"
    }
   ],
   "source": [
    "dict.keys()"
   ]
  },
  {
   "cell_type": "code",
   "execution_count": 29,
   "id": "7dee9952-7950-4d26-be70-7b422b20ee42",
   "metadata": {},
   "outputs": [
    {
     "data": {
      "text/plain": [
       "dict_values(['aaa', 'bbb', 'ccc'])"
      ]
     },
     "execution_count": 29,
     "metadata": {},
     "output_type": "execute_result"
    }
   ],
   "source": [
    "dict.values()"
   ]
  },
  {
   "cell_type": "code",
   "execution_count": 32,
   "id": "896f36c5-dc0b-435c-a383-48048d632230",
   "metadata": {},
   "outputs": [
    {
     "data": {
      "text/plain": [
       "\"HSTU IS 'love'\""
      ]
     },
     "execution_count": 32,
     "metadata": {},
     "output_type": "execute_result"
    }
   ],
   "source": [
    "string=\"HSTU IS 'love'\"\n",
    "string"
   ]
  },
  {
   "cell_type": "code",
   "execution_count": 34,
   "id": "9cbb2b84-398f-4cec-85ac-f24c3fc00b8e",
   "metadata": {},
   "outputs": [
    {
     "name": "stdout",
     "output_type": "stream",
     "text": [
      "HSTU IS LOVE\tI LOVE HER\n"
     ]
    }
   ],
   "source": [
    "print(\"HSTU IS LOVE\",end=\"\\t\")\n",
    "print(\"I LOVE HER\")"
   ]
  },
  {
   "cell_type": "code",
   "execution_count": 49,
   "id": "02d885b6-1fd3-4003-926c-a22b734e5379",
   "metadata": {},
   "outputs": [
    {
     "name": "stdout",
     "output_type": "stream",
     "text": [
      "Area of BD IS:147570\n"
     ]
    }
   ],
   "source": [
    "string_2=\"Area of BD IS:\"\n",
    "Area=147570\n",
    "print(f\"{string_2}{Area}\")"
   ]
  },
  {
   "cell_type": "code",
   "execution_count": 50,
   "id": "4bce170d-98d7-4a85-8d46-5dbb22b1b76a",
   "metadata": {},
   "outputs": [
    {
     "data": {
      "text/plain": [
       "['Are', ' of BD IS:']"
      ]
     },
     "execution_count": 50,
     "metadata": {},
     "output_type": "execute_result"
    }
   ],
   "source": [
    "string_2.split('a')"
   ]
  },
  {
   "cell_type": "code",
   "execution_count": null,
   "id": "64037e1e-e8bf-4cd4-bb3e-280d9375e642",
   "metadata": {},
   "outputs": [],
   "source": []
  }
 ],
 "metadata": {
  "kernelspec": {
   "display_name": "Python 3 (ipykernel)",
   "language": "python",
   "name": "python3"
  },
  "language_info": {
   "codemirror_mode": {
    "name": "ipython",
    "version": 3
   },
   "file_extension": ".py",
   "mimetype": "text/x-python",
   "name": "python",
   "nbconvert_exporter": "python",
   "pygments_lexer": "ipython3",
   "version": "3.10.10"
  }
 },
 "nbformat": 4,
 "nbformat_minor": 5
}
