{
 "cells": [
  {
   "cell_type": "code",
   "execution_count": 1,
   "id": "c183f18b-e826-4d79-9075-e471c1089fb8",
   "metadata": {},
   "outputs": [
    {
     "data": {
      "text/plain": [
       "[1, 4, 9, 16]"
      ]
     },
     "execution_count": 1,
     "metadata": {},
     "output_type": "execute_result"
    }
   ],
   "source": [
    "#Map function\n",
    "m=map(lambda a:a*a,[1,2,3,4])\n",
    "list(m)\n"
   ]
  },
  {
   "cell_type": "code",
   "execution_count": 2,
   "id": "396e0358-c4e5-4abb-9ecb-7ec97f191fbc",
   "metadata": {},
   "outputs": [
    {
     "data": {
      "text/plain": [
       "[1, 3, 5]"
      ]
     },
     "execution_count": 2,
     "metadata": {},
     "output_type": "execute_result"
    }
   ],
   "source": [
    " #filter\n",
    "def is_odd(a):\n",
    "    if a%2==1:\n",
    "        return True\n",
    "    else:\n",
    "        return False\n",
    "f=filter(is_odd,[1,2,3,4,5])\n",
    "list(f)\n",
    " "
   ]
  }
 ],
 "metadata": {
  "kernelspec": {
   "display_name": "Python 3 (ipykernel)",
   "language": "python",
   "name": "python3"
  },
  "language_info": {
   "codemirror_mode": {
    "name": "ipython",
    "version": 3
   },
   "file_extension": ".py",
   "mimetype": "text/x-python",
   "name": "python",
   "nbconvert_exporter": "python",
   "pygments_lexer": "ipython3",
   "version": "3.10.10"
  }
 },
 "nbformat": 4,
 "nbformat_minor": 5
}
