{
 "cells": [
  {
   "cell_type": "code",
   "execution_count": 5,
   "id": "98718c57-1d0b-47bb-973e-3d6ff83361ef",
   "metadata": {},
   "outputs": [
    {
     "data": {
      "text/plain": [
       "array([[1, 1],\n",
       "       [2, 2],\n",
       "       [3, 3],\n",
       "       [4, 4]])"
      ]
     },
     "execution_count": 5,
     "metadata": {},
     "output_type": "execute_result"
    }
   ],
   "source": [
    "#NUMPY\n",
    "l=[[1,1],[2,2],[3,3],[4,4]]\n",
    "import numpy as np\n",
    "np_arr=np.array(l)\n",
    "np_arr\n"
   ]
  },
  {
   "cell_type": "code",
   "execution_count": 7,
   "id": "66052ca0-69bf-4371-8d8c-9d0571b60a35",
   "metadata": {},
   "outputs": [
    {
     "data": {
      "text/plain": [
       "(list, numpy.ndarray)"
      ]
     },
     "execution_count": 7,
     "metadata": {},
     "output_type": "execute_result"
    }
   ],
   "source": [
    "type(l),type(np_arr)"
   ]
  },
  {
   "cell_type": "code",
   "execution_count": 15,
   "id": "08f3fc22-0184-46a2-be3b-b18e654810be",
   "metadata": {
    "scrolled": true
   },
   "outputs": [
    {
     "data": {
      "text/plain": [
       "array([[   1,    2,    3,    4],\n",
       "       [   2,    2, 3244,    4],\n",
       "       [   8,    9,    6,    2]])"
      ]
     },
     "execution_count": 15,
     "metadata": {},
     "output_type": "execute_result"
    }
   ],
   "source": [
    "list_1=[1,2,3,4]\n",
    "list_2=[2,2,3244,4]\n",
    "list_3=[8,9,6,2]\n",
    "merge=np.array([list_1,list_2,list_3])\n",
    "merge\n"
   ]
  },
  {
   "cell_type": "code",
   "execution_count": 11,
   "id": "76a24c0a-032c-4eb3-b447-3fc5f287743d",
   "metadata": {},
   "outputs": [
    {
     "data": {
      "text/plain": [
       "(3, 4)"
      ]
     },
     "execution_count": 11,
     "metadata": {},
     "output_type": "execute_result"
    }
   ],
   "source": [
    "merge.shape"
   ]
  },
  {
   "cell_type": "code",
   "execution_count": 16,
   "id": "acf23440-47a2-4178-af24-bca0309f3e73",
   "metadata": {},
   "outputs": [
    {
     "data": {
      "text/plain": [
       "3244"
      ]
     },
     "execution_count": 16,
     "metadata": {},
     "output_type": "execute_result"
    }
   ],
   "source": [
    "merge[1][2]"
   ]
  },
  {
   "cell_type": "code",
   "execution_count": 20,
   "id": "cf7eb81f-e087-4508-ac17-9f6de038656f",
   "metadata": {},
   "outputs": [
    {
     "data": {
      "text/plain": [
       "array([[1, 1, 1, 1],\n",
       "       [1, 1, 1, 1]])"
      ]
     },
     "execution_count": 20,
     "metadata": {},
     "output_type": "execute_result"
    }
   ],
   "source": [
    "#np ones\n",
    "np.ones((2,4),dtype=int)\n"
   ]
  },
  {
   "cell_type": "code",
   "execution_count": 21,
   "id": "c7afdd9e-7011-4c40-be58-427080085791",
   "metadata": {},
   "outputs": [
    {
     "data": {
      "text/plain": [
       "array([[0, 0, 0, 0],\n",
       "       [0, 0, 0, 0]])"
      ]
     },
     "execution_count": 21,
     "metadata": {},
     "output_type": "execute_result"
    }
   ],
   "source": [
    "#np zeros\n",
    "np.zeros((2,4),dtype=int)"
   ]
  },
  {
   "cell_type": "code",
   "execution_count": 25,
   "id": "41b83d32-7c93-4af9-872b-5b0fca1abb33",
   "metadata": {},
   "outputs": [
    {
     "data": {
      "text/plain": [
       "array([[10, 11, 12, 13, 14],\n",
       "       [15, 16, 17, 18, 19]])"
      ]
     },
     "execution_count": 25,
     "metadata": {},
     "output_type": "execute_result"
    }
   ],
   "source": [
    "n=np.arange(10,20)\n",
    "n.reshape(2,5)\n"
   ]
  },
  {
   "cell_type": "code",
   "execution_count": 3,
   "id": "1640a9f4-dfce-49f4-afe9-a5f2425e327d",
   "metadata": {},
   "outputs": [
    {
     "name": "stdin",
     "output_type": "stream",
     "text": [
      "enter a integer number: 3\n"
     ]
    },
    {
     "name": "stdout",
     "output_type": "stream",
     "text": [
      "3\n"
     ]
    }
   ],
   "source": [
    "a=int((input('enter a integer number:')))\n",
    "print(a)\n"
   ]
  },
  {
   "cell_type": "code",
   "execution_count": null,
   "id": "136ff423-8bf2-4f19-9801-91becaa0a837",
   "metadata": {},
   "outputs": [],
   "source": []
  }
 ],
 "metadata": {
  "kernelspec": {
   "display_name": "Python 3 (ipykernel)",
   "language": "python",
   "name": "python3"
  },
  "language_info": {
   "codemirror_mode": {
    "name": "ipython",
    "version": 3
   },
   "file_extension": ".py",
   "mimetype": "text/x-python",
   "name": "python",
   "nbconvert_exporter": "python",
   "pygments_lexer": "ipython3",
   "version": "3.10.10"
  }
 },
 "nbformat": 4,
 "nbformat_minor": 5
}
