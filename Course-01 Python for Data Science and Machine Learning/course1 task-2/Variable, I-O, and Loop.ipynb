{
 "cells": [
  {
   "cell_type": "code",
   "execution_count": 4,
   "id": "415c3bdf-4eba-48a8-be72-5198adb956c6",
   "metadata": {},
   "outputs": [
    {
     "name": "stdin",
     "output_type": "stream",
     "text": [
      "Enter a float number: 14141414.151551\n"
     ]
    },
    {
     "name": "stdout",
     "output_type": "stream",
     "text": [
      "14141414.15\n"
     ]
    }
   ],
   "source": [
    "'''1. Display float number with 2 decimal places using print().'''\n",
    "n=float(input('Enter a float number:'))\n",
    "print('%.2f'%n)\n"
   ]
  },
  {
   "cell_type": "code",
   "execution_count": 11,
   "id": "3d62a2a9-45a1-4168-9d25-47ebc9940914",
   "metadata": {},
   "outputs": [
    {
     "name": "stdin",
     "output_type": "stream",
     "text": [
      "Enter the element number in list: 2\n",
      "Enter the float elements : 1.1\n",
      "Enter the float elements : 1\n"
     ]
    },
    {
     "name": "stdout",
     "output_type": "stream",
     "text": [
      "[1.1, 1.0]\n"
     ]
    }
   ],
   "source": [
    "'''2. Accept a list of float numbers as input from the user and display that.'''\n",
    "list=[]\n",
    "n=int(input('Enter the element number in list:'))\n",
    "for i in range(n):\n",
    "    data=float(input('Enter the float elements :'))\n",
    "    list.append(data)\n",
    "print(list)"
   ]
  },
  {
   "cell_type": "code",
   "execution_count": 18,
   "id": "88c57590-b846-4f7c-91cc-70eee9662fc8",
   "metadata": {},
   "outputs": [
    {
     "name": "stdin",
     "output_type": "stream",
     "text": [
      "Enter a natural number: 6\n"
     ]
    },
    {
     "name": "stdout",
     "output_type": "stream",
     "text": [
      "123456"
     ]
    }
   ],
   "source": [
    "'''3. Print the First n natural numbers using a while loop. '''\n",
    "i=1\n",
    "n=int(input('Enter a natural number:'))\n",
    "while(i<=n):\n",
    "      print(i,end='')\n",
    "      i=i+1"
   ]
  },
  {
   "cell_type": "code",
   "execution_count": 23,
   "id": "b7e218cb-d4d4-4c67-8ec7-2007df4e8853",
   "metadata": {},
   "outputs": [
    {
     "name": "stdin",
     "output_type": "stream",
     "text": [
      "Enter a  integer number: 4\n"
     ]
    },
    {
     "name": "stdout",
     "output_type": "stream",
     "text": [
      "-4 -3 -2 -1 "
     ]
    }
   ],
   "source": [
    "'''4. Display numbers from -n to -1 using for loop.'''\n",
    "n=int(input('Enter a  integer number:'))\n",
    "d=-n\n",
    "for i in range(d,0,1):\n",
    "    print(i,end=' ')"
   ]
  },
  {
   "cell_type": "code",
   "execution_count": 24,
   "id": "771e663e-58c3-43d4-9596-5c4d58543202",
   "metadata": {},
   "outputs": [
    {
     "name": "stdin",
     "output_type": "stream",
     "text": [
      "Enter number: 346566\n"
     ]
    },
    {
     "name": "stdout",
     "output_type": "stream",
     "text": [
      "The number of digits in the number are: 6\n"
     ]
    }
   ],
   "source": [
    "'''5.Count the total number of digits in a number.'''\n",
    "n=int(input(\"Enter number:\"))\n",
    "count=0\n",
    "while(n>0):\n",
    "    count=count+1\n",
    "    n=n//10\n",
    "print(\"The number of digits in the number are:\",count)"
   ]
  },
  {
   "cell_type": "code",
   "execution_count": 27,
   "id": "7728b15a-3296-41df-bb50-43798653406a",
   "metadata": {},
   "outputs": [
    {
     "name": "stdin",
     "output_type": "stream",
     "text": [
      "Enter the number: 6\n"
     ]
    },
    {
     "name": "stdout",
     "output_type": "stream",
     "text": [
      "720\n"
     ]
    }
   ],
   "source": [
    " '''6. Find the factorial of a given number.'''\n",
    "import math  \n",
    "num = int(input(\"Enter the number:\"))  \n",
    "f=(math.factorial(num))  \n",
    "print(f)\n"
   ]
  },
  {
   "cell_type": "code",
   "execution_count": 36,
   "id": "39df290a-ce4b-43ae-be32-efe1f55efa27",
   "metadata": {},
   "outputs": [
    {
     "name": "stdout",
     "output_type": "stream",
     "text": [
      "1 \n",
      "1 2 \n",
      "1 2 3 \n",
      "1 2 3 4 \n",
      "1 2 3 4 5 \n"
     ]
    }
   ],
   "source": [
    "'''7. Print this: \n",
    "1 \n",
    "1 2\n",
    "1 2 3 \n",
    "1 2 3 4 \n",
    "1 2 3 4 5\n",
    "'''\n",
    "\n",
    "for i in range(5):\n",
    "    for j in range(i+1):\n",
    "        print(j+1,end=' ')\n",
    "    print()"
   ]
  },
  {
   "cell_type": "code",
   "execution_count": null,
   "id": "3d08f8c6-0a91-4405-a045-1e1d539f3354",
   "metadata": {},
   "outputs": [],
   "source": []
  }
 ],
 "metadata": {
  "kernelspec": {
   "display_name": "Python 3 (ipykernel)",
   "language": "python",
   "name": "python3"
  },
  "language_info": {
   "codemirror_mode": {
    "name": "ipython",
    "version": 3
   },
   "file_extension": ".py",
   "mimetype": "text/x-python",
   "name": "python",
   "nbconvert_exporter": "python",
   "pygments_lexer": "ipython3",
   "version": "3.10.10"
  }
 },
 "nbformat": 4,
 "nbformat_minor": 5
}
