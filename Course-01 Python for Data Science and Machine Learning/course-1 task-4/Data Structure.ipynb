{
 "cells": [
  {
   "cell_type": "code",
   "execution_count": 10,
   "id": "22cadcf8-478e-4f70-bc0a-02e5e967d676",
   "metadata": {},
   "outputs": [
    {
     "name": "stdout",
     "output_type": "stream",
     "text": [
      "['ECE', 'CSE', 'EEE']\n"
     ]
    }
   ],
   "source": [
    "'''1. Reverse a list. '''\n",
    "list=['EEE','CSE','ECE']   \n",
    "list.reverse()\n",
    "print(list)"
   ]
  },
  {
   "cell_type": "code",
   "execution_count": 4,
   "id": "1cccb142-c220-4fa6-a63e-92ac0805dacd",
   "metadata": {},
   "outputs": [
    {
     "name": "stdout",
     "output_type": "stream",
     "text": [
      "['We', 'will', 'Dream', 'big']\n"
     ]
    }
   ],
   "source": [
    "'''2. Concatenate two lists index-wise.\n",
    "Input: \n",
    "list1 = [\"W\", \"wi\", \"Dre\", \"b\"]\n",
    "list2 = [\"e\", \"ll\", \"am\", \"ig\"]\n",
    "Output: \n",
    "['We', 'will', 'Dream', 'big']'''\n",
    "\n",
    "\n",
    "list1 = [\"W\", \"wi\", \"Dre\", \"b\"]\n",
    "list2 = [\"e\", \"ll\", \"am\", \"ig\"]\n",
    "list3=[]\n",
    "for i in range(len(list1)):\n",
    "    list3.append(list1[i]+list2[i])#akane i diye list er length ojhacca\n",
    "print(list3)   \n"
   ]
  },
  {
   "cell_type": "code",
   "execution_count": 13,
   "id": "d0dc0fbe-f55b-41c2-bcca-6aef1859c99b",
   "metadata": {},
   "outputs": [
    {
     "name": "stdout",
     "output_type": "stream",
     "text": [
      "[1, 4, 9, 16]\n"
     ]
    }
   ],
   "source": [
    "'''3. Turn every number of a list into its square.'''\n",
    "list1=[1,2,3,4]\n",
    "list2=[i**2 for i in list1 ]\n",
    "print(list2)"
   ]
  },
  {
   "cell_type": "code",
   "execution_count": 21,
   "id": "f138f5cd-47c3-42e6-a6de-29467a544dd6",
   "metadata": {},
   "outputs": [
    {
     "name": "stdout",
     "output_type": "stream",
     "text": [
      "['Code', 'Studio', 'Academy']\n"
     ]
    }
   ],
   "source": [
    "'''4. Remove empty strings from the list of strings.\n",
    "Input: \n",
    "[\"Code\", \" \", \"Studio\", \"Academy\", \" \"]\n",
    "Output:  \n",
    "[\"Code\", \"Studio\", \"Academy\"]'''\n",
    "\n",
    "my_list=[\"Code\", \" \", \"Studio\", \"Academy\", \" \"]\n",
    "new_list=[]\n",
    "for i in my_list:\n",
    "    if \" \" not in i:\n",
    "        new_list.append(i)\n",
    "print(new_list)\n",
    "    \n",
    "        "
   ]
  },
  {
   "cell_type": "code",
   "execution_count": 26,
   "id": "bb6f8ace-4b8a-49b0-b412-792300936db1",
   "metadata": {},
   "outputs": [
    {
     "name": "stdout",
     "output_type": "stream",
     "text": [
      "{'Yellow', 'Green', 'Black', 'Red', 'Orange', 'Blue'}\n"
     ]
    }
   ],
   "source": [
    "'''5.  Add a list of elements to a set. [Hint: use update() ]\n",
    "Input: \n",
    "set = {\"Yellow\", \"Orange\", \"Black\"} \n",
    "list = [\"Blue\", \"Green\", \"Red\"]\n",
    "Output: \n",
    "{'Green', 'Yellow', 'Black', 'Orange', 'Red', 'Blue'} '''\n",
    "\n",
    "set = {\"Yellow\", \"Orange\", \"Black\"} \n",
    "list = [\"Blue\", \"Green\", \"Red\"]\n",
    "set.update(list)\n",
    "print(set)\n"
   ]
  },
  {
   "cell_type": "code",
   "execution_count": 27,
   "id": "63339d1d-aa59-4ee7-842d-119b78cad9df",
   "metadata": {},
   "outputs": [
    {
     "name": "stdout",
     "output_type": "stream",
     "text": [
      "{1, 2}\n"
     ]
    }
   ],
   "source": [
    "'''6. Return a set of elements present in Set A or B, but not both.'''\n",
    "A={1,2,3,4}\n",
    "B={3,4}\n",
    "print(A.difference(B))"
   ]
  },
  {
   "cell_type": "code",
   "execution_count": 28,
   "id": "1c0233b3-5f86-410c-980e-93952738a07e",
   "metadata": {},
   "outputs": [
    {
     "name": "stdout",
     "output_type": "stream",
     "text": [
      "{'Ten': 10, 'Twenty': 20, 'Thirty': 30}\n"
     ]
    }
   ],
   "source": [
    "'''7. Convert two lists into a dictionary.\n",
    "Input: \n",
    "keys = ['Ten', 'Twenty', 'Thirty']\n",
    "values = [10, 20, 30]\n",
    "Output: {'Ten': 10, 'Twenty': 20, 'Thirty': 30}'''\n",
    "keys = ['Ten', 'Twenty', 'Thirty']\n",
    "values = [10, 20, 30]\n",
    "D=dict(zip(keys,values))\n",
    "print(D)\n"
   ]
  },
  {
   "cell_type": "code",
   "execution_count": 29,
   "id": "8b7884c3-5312-4d97-a162-9068bd2f5c9f",
   "metadata": {},
   "outputs": [
    {
     "name": "stdout",
     "output_type": "stream",
     "text": [
      "{'Ten': 10, 'Twenty': 20, 'Thirty': 30, 'Fourty': 40, 'Fifty': 50}\n"
     ]
    }
   ],
   "source": [
    "'''8. Merge two Python dictionaries into one.\n",
    "Input: \n",
    "dict1 = {'Ten': 10, 'Twenty': 20, 'Thirty': 30} \n",
    "dict2 = {'Thirty': 30, 'Fourty': 40, 'Fifty': 50}\n",
    "Output: \n",
    "{'Ten': 10, 'Twenty': 20, 'Thirty': 30, 'Fourty': 40, 'Fifty': 50}'''\n",
    "\n",
    "dict1 = {'Ten': 10, 'Twenty': 20, 'Thirty': 30} \n",
    "dict2 = {'Thirty': 30, 'Fourty': 40, 'Fifty': 50}\n",
    "dict3={**dict1,**dict2}\n",
    "print(dict3)\n",
    "\n",
    "\n",
    "\n"
   ]
  },
  {
   "cell_type": "code",
   "execution_count": 33,
   "id": "301ca30f-addf-4eb1-bfba-ff111baba836",
   "metadata": {},
   "outputs": [
    {
     "name": "stdout",
     "output_type": "stream",
     "text": [
      "{'NAME': 'TIRTHO', 'VERSITY': 'HSTU', 'depertment': 'EEE'}\n"
     ]
    }
   ],
   "source": [
    "'''9. Rename a key of a dictionary.'''\n",
    "\n",
    "a={'NAME':'TIRTHO','DEPT':'EEE','VERSITY':'HSTU'}\n",
    "a['depertment']=a.pop('DEPT')\n",
    "print(a)\n"
   ]
  },
  {
   "cell_type": "code",
   "execution_count": null,
   "id": "208987c0-6a3f-44cd-afcf-2d7f9e3ba91b",
   "metadata": {},
   "outputs": [],
   "source": [
    "'''10. Sort a tuple of tuples by 2nd item.'''\n",
    "##pro\n"
   ]
  }
 ],
 "metadata": {
  "kernelspec": {
   "display_name": "Python 3 (ipykernel)",
   "language": "python",
   "name": "python3"
  },
  "language_info": {
   "codemirror_mode": {
    "name": "ipython",
    "version": 3
   },
   "file_extension": ".py",
   "mimetype": "text/x-python",
   "name": "python",
   "nbconvert_exporter": "python",
   "pygments_lexer": "ipython3",
   "version": "3.10.10"
  }
 },
 "nbformat": 4,
 "nbformat_minor": 5
}
