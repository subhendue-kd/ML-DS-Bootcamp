{
 "cells": [
  {
   "cell_type": "code",
   "execution_count": 7,
   "id": "263af75d-280c-4b8a-8a98-01e3a647338c",
   "metadata": {},
   "outputs": [
    {
     "name": "stdout",
     "output_type": "stream",
     "text": [
      "22 12\n"
     ]
    }
   ],
   "source": [
    "\n",
    "'''Calculator creat using class'''\n",
    "\n",
    "class Calculator:   #class decliar\n",
    "    def add(self,a,b):\n",
    "        return a+b\n",
    "    def sub(self,a,b):\n",
    "        return a-b\n",
    "calc=Calculator()#object\n",
    "s=calc.add(10,12)\n",
    "m=calc.sub(24,12)\n",
    "print(s,m)\n",
    "        "
   ]
  },
  {
   "cell_type": "code",
   "execution_count": 9,
   "id": "e2b3fa4f-4255-4854-b9d9-e78ada54250a",
   "metadata": {},
   "outputs": [
    {
     "name": "stdout",
     "output_type": "stream",
     "text": [
      "36 12\n"
     ]
    }
   ],
   "source": [
    "\n",
    "'''Calculator creat using init '''\n",
    "class Calculator:\n",
    "    def __init__(self,a,b): #Dundurscore(2 ta underscore) use\n",
    "        self.a=a\n",
    "        self.b=b\n",
    "        \n",
    "    def add(self):\n",
    "        return self.a+self.b\n",
    "    def sub(self):\n",
    "        return self.a-self.b\n",
    "\n",
    "\n",
    "c=Calculator(24,12)\n",
    "s=c.add()\n",
    "m=c.sub()\n",
    "print(s,m)\n"
   ]
  },
  {
   "cell_type": "code",
   "execution_count": 12,
   "id": "eef71095-b0ee-491a-aabd-d01ed485e34b",
   "metadata": {},
   "outputs": [
    {
     "name": "stdout",
     "output_type": "stream",
     "text": [
      "144\n"
     ]
    }
   ],
   "source": [
    "'''inheritence'''\n",
    "class Calculator:   #class decliar\n",
    "    def add(self,a,b):\n",
    "        return a+b\n",
    "    def sub(self,a,b):\n",
    "        return a-b\n",
    "class Square(Calculator):\n",
    "    def sqr(self,a):\n",
    "        return a*a\n",
    "my_calc=Square()\n",
    "s=my_calc.sqr(12)\n",
    "print(s)\n",
    "        \n",
    "    \n",
    "        \n",
    "\n",
    "\n",
    "\n",
    "\n"
   ]
  },
  {
   "cell_type": "code",
   "execution_count": 15,
   "id": "1af7e6ac-ec59-4067-b46a-0fab7f4656a8",
   "metadata": {},
   "outputs": [
    {
     "ename": "TypeError",
     "evalue": "Sum.add() missing 1 required positional argument: 'c'",
     "output_type": "error",
     "traceback": [
      "\u001b[1;31m---------------------------------------------------------------------------\u001b[0m",
      "\u001b[1;31mTypeError\u001b[0m                                 Traceback (most recent call last)",
      "Cell \u001b[1;32mIn[15], line 14\u001b[0m\n\u001b[0;32m     10\u001b[0m         \u001b[38;5;28;01mreturn\u001b[39;00m a\u001b[38;5;241m+\u001b[39mb\u001b[38;5;241m+\u001b[39mc\n\u001b[0;32m     13\u001b[0m my_calc\u001b[38;5;241m=\u001b[39mSum()\n\u001b[1;32m---> 14\u001b[0m s\u001b[38;5;241m=\u001b[39m\u001b[43mmy_calc\u001b[49m\u001b[38;5;241;43m.\u001b[39;49m\u001b[43madd\u001b[49m\u001b[43m(\u001b[49m\u001b[38;5;241;43m12\u001b[39;49m\u001b[43m,\u001b[49m\u001b[38;5;241;43m11\u001b[39;49m\u001b[43m)\u001b[49m\n\u001b[0;32m     15\u001b[0m \u001b[38;5;28mprint\u001b[39m(s)\n",
      "\u001b[1;31mTypeError\u001b[0m: Sum.add() missing 1 required positional argument: 'c'"
     ]
    }
   ],
   "source": [
    "'''Ambiguity (method overriding)'''\n",
    "class Calculator:   #class decliar\n",
    "    def add(self,a,b):\n",
    "        return a+b\n",
    "    def sub(self,a,b):\n",
    "        return a-b\n",
    "        \n",
    "class Sum(Calculator):\n",
    "     def add(self,a,b,c): #method overriding tai error dekhice\n",
    "        return a+b+c\n",
    "    \n",
    "    \n",
    "my_calc=Sum()\n",
    "s=my_calc.add(12,11)\n",
    "print(s)\n",
    "        \n",
    "\n"
   ]
  },
  {
   "cell_type": "code",
   "execution_count": 22,
   "id": "33953d3b-859d-4467-910f-d149a9edf567",
   "metadata": {},
   "outputs": [
    {
     "name": "stdout",
     "output_type": "stream",
     "text": [
      "94\n",
      "Plabon is not poor\n"
     ]
    }
   ],
   "source": [
    "'''Method overloading'''\n",
    "class Employee:\n",
    "    def __init__(self,name):\n",
    "        self.name=name\n",
    "    def income(self,money):\n",
    "        self.money=money\n",
    "        print(money)\n",
    "        if money==None:\n",
    "            print(f'{self.name} is poor')\n",
    "        else:\n",
    "            print(f'{self.name} is not poor')\n",
    "\n",
    "me=Employee('Plabon')\n",
    "me.income(94)\n",
    "\n",
    "            \n",
    "        \n",
    "        \n",
    "        \n",
    "        \n",
    "\n",
    "\n",
    "\n"
   ]
  },
  {
   "cell_type": "code",
   "execution_count": 26,
   "id": "b6e88885-1812-44e5-8e04-71a46211d31a",
   "metadata": {},
   "outputs": [
    {
     "name": "stdout",
     "output_type": "stream",
     "text": [
      "Emon\n",
      "23\n"
     ]
    },
    {
     "ename": "AttributeError",
     "evalue": "'Student' object has no attribute '__session'",
     "output_type": "error",
     "traceback": [
      "\u001b[1;31m---------------------------------------------------------------------------\u001b[0m",
      "\u001b[1;31mAttributeError\u001b[0m                            Traceback (most recent call last)",
      "Cell \u001b[1;32mIn[26], line 11\u001b[0m\n\u001b[0;32m      9\u001b[0m \u001b[38;5;28mprint\u001b[39m(s\u001b[38;5;241m.\u001b[39mname)\n\u001b[0;32m     10\u001b[0m \u001b[38;5;28mprint\u001b[39m(s\u001b[38;5;241m.\u001b[39m_age)\n\u001b[1;32m---> 11\u001b[0m \u001b[38;5;28mprint\u001b[39m(\u001b[43ms\u001b[49m\u001b[38;5;241;43m.\u001b[39;49m\u001b[43m__session\u001b[49m) \n",
      "\u001b[1;31mAttributeError\u001b[0m: 'Student' object has no attribute '__session'"
     ]
    }
   ],
   "source": [
    "'''Encapsulation '''\n",
    "\n",
    "class Student:\n",
    "    def __init__(self):\n",
    "        self.name='Emon'\n",
    "        self._age=23\n",
    "        self.__session=2018\n",
    "s= Student()\n",
    "print(s.name)\n",
    "print(s._age)\n",
    "print(s.__session) #attribute nai dekhabe"
   ]
  },
  {
   "cell_type": "code",
   "execution_count": 41,
   "id": "3c5fdeb7-44a3-4e1e-ae0a-be473a572c60",
   "metadata": {},
   "outputs": [
    {
     "name": "stdout",
     "output_type": "stream",
     "text": [
      "2018\n",
      "None\n",
      "2020\n",
      "None\n"
     ]
    }
   ],
   "source": [
    "'''get set diye private value access'''\n",
    "class Student:\n",
    "    def __init__(self):\n",
    "        self.__session=2018\n",
    "    def get_session(self):\n",
    "        print(self.__session)\n",
    "    def set_session(self,session):\n",
    "        self.__session=session\n",
    "        \n",
    "s= Student()\n",
    "print(s.get_session()) \n",
    "s.set_session(2020)\n",
    "print(s.get_session()) \n"
   ]
  },
  {
   "cell_type": "code",
   "execution_count": 5,
   "id": "0b56def8-3c50-4040-99a0-01713119a370",
   "metadata": {},
   "outputs": [
    {
     "name": "stdout",
     "output_type": "stream",
     "text": [
      "25.0\n",
      "Google\n",
      "This is an Employee class\n"
     ]
    }
   ],
   "source": [
    "'''Instance,class,static method'''\n",
    "#Instance method\n",
    "class myClass:\n",
    "    def __init__(self,a,b):\n",
    "        self.a=a\n",
    "        self.b=b\n",
    "        \n",
    "    def avg(self):      #Instance method declare\n",
    "        print((self.a+self.b)/2)\n",
    "m1=myClass(20,30)\n",
    "m1.avg()\n",
    "\n",
    "\n",
    "\n",
    "#Class method\n",
    "\n",
    "class Employee:\n",
    "    org_name='Google'\n",
    "    def __init__(self,name):\n",
    "        self.name= name\n",
    "      #class method declare \n",
    "    @classmethod\n",
    "    def info(cls):\n",
    "        return cls.org_name\n",
    "print(Employee.info())\n",
    "\n",
    "\n",
    "\n",
    "\n",
    "#static method\n",
    "class Employee:\n",
    "    org_name='Google'\n",
    "    def __init__(self,name):\n",
    "        self.name= name\n",
    "    @staticmethod\n",
    "    def detail():\n",
    "        print('This is an Employee class')\n",
    "Employee.detail()\n",
    "\n",
    "\n",
    "\n"
   ]
  },
  {
   "cell_type": "code",
   "execution_count": null,
   "id": "c3355817-175d-4075-ac66-672aeb3602fc",
   "metadata": {},
   "outputs": [],
   "source": []
  }
 ],
 "metadata": {
  "kernelspec": {
   "display_name": "Python 3 (ipykernel)",
   "language": "python",
   "name": "python3"
  },
  "language_info": {
   "codemirror_mode": {
    "name": "ipython",
    "version": 3
   },
   "file_extension": ".py",
   "mimetype": "text/x-python",
   "name": "python",
   "nbconvert_exporter": "python",
   "pygments_lexer": "ipython3",
   "version": "3.10.10"
  }
 },
 "nbformat": 4,
 "nbformat_minor": 5
}
