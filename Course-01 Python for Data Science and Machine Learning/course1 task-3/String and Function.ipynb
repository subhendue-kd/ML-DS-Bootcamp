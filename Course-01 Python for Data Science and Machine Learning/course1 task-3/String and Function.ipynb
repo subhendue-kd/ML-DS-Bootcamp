{
 "cells": [
  {
   "cell_type": "code",
   "execution_count": 5,
   "id": "ebaf934e-f71e-410b-b8bc-75e819750534",
   "metadata": {},
   "outputs": [
    {
     "name": "stdin",
     "output_type": "stream",
     "text": [
      "Enter strings: studenmt \n"
     ]
    },
    {
     "name": "stdout",
     "output_type": "stream",
     "text": [
      "se \n"
     ]
    }
   ],
   "source": [
    "'''1. Keep the first, middle, and last characters of an input string.  '''\n",
    "a=input('Enter strings:')\n",
    "x=a[0]+a[len(a)//2]+a[-1]\n",
    "print(x)"
   ]
  },
  {
   "cell_type": "code",
   "execution_count": 4,
   "id": "9657e6c0-8ba8-4431-9b53-9d5c6e92c39f",
   "metadata": {},
   "outputs": [
    {
     "name": "stdin",
     "output_type": "stream",
     "text": [
      "Enter strings: qqgfg\n"
     ]
    },
    {
     "name": "stdout",
     "output_type": "stream",
     "text": [
      "qqggf\n"
     ]
    }
   ],
   "source": [
    "'''2. Arrange string characters such that lowercase letters should come first.'''\n",
    "a=input('Enter strings:')\n",
    "s=''.join(sorted(a))#join function use for put something between letters\n",
    "print(s[::-1]) #[::-1] to reverse the order of a string, it is also done by reverse"
   ]
  },
  {
   "cell_type": "code",
   "execution_count": 11,
   "id": "3ca2b7e9-0c9f-4093-b402-9d4cd77df642",
   "metadata": {},
   "outputs": [
    {
     "name": "stdin",
     "output_type": "stream",
     "text": [
      "Enter string: acxsgaqf@@###1\n"
     ]
    },
    {
     "name": "stdout",
     "output_type": "stream",
     "text": [
      "char= 8 digit= 1 symbol= 5\n"
     ]
    }
   ],
   "source": [
    "'''3. Count all letters, digits, and special symbols from a given string. '''\n",
    "sample_str=input('Enter string:')\n",
    "\n",
    "def find_char_digit_symbol(sample_str):\n",
    "    char_count=0\n",
    "    digit_count=0\n",
    "    symbol_count=0\n",
    "    for char in sample_str:\n",
    "        if char.isalpha():\n",
    "            char_count+=1\n",
    "        elif char.isdigit():\n",
    "            digit_count+=1\n",
    "        else:\n",
    "            symbol_count+=1\n",
    "    print('char=',char_count,'digit=',digit_count,'symbol=',symbol_count)\n",
    "\n",
    "find_char_digit_symbol(sample_str)        \n",
    "            \n",
    "            \n",
    "        \n",
    "            \n",
    "    \n"
   ]
  },
  {
   "cell_type": "code",
   "execution_count": 11,
   "id": "d1a54867-e3a8-4c5b-a9fc-cd9e7d21e1a3",
   "metadata": {},
   "outputs": [
    {
     "name": "stdin",
     "output_type": "stream",
     "text": [
      "Enter strings: aas-ga-aa\n"
     ]
    },
    {
     "name": "stdout",
     "output_type": "stream",
     "text": [
      "['aas', 'ga', 'aa']\n"
     ]
    }
   ],
   "source": [
    "'''4. Split a string on hyphens. '''\n",
    "str=input('Enter strings:')\n",
    "x=str.split(\"-\")\n",
    "print(x)\n"
   ]
  },
  {
   "cell_type": "code",
   "execution_count": 3,
   "id": "689b7e2b-f909-4e03-9512-7bbf99826c21",
   "metadata": {},
   "outputs": [
    {
     "name": "stdin",
     "output_type": "stream",
     "text": [
      "Enter strings: afsfs\n"
     ]
    },
    {
     "name": "stdout",
     "output_type": "stream",
     "text": [
      "The reversed string using reversed() is :  sfsfa\n"
     ]
    }
   ],
   "source": [
    "'''5. Reverse a given string.'''\n",
    "str=input('Enter strings:')\n",
    "def reverse(str):   \n",
    "    string = \"\".join(reversed(str)) # reversed() function inside the join() function  \n",
    "    return string    \n",
    "print (\"The reversed string using reversed() is : \",reverse(str) )  "
   ]
  },
  {
   "cell_type": "code",
   "execution_count": 8,
   "id": "acd02f79-e061-4352-9d95-1cf321bea4cd",
   "metadata": {},
   "outputs": [
    {
     "name": "stdout",
     "output_type": "stream",
     "text": [
      "sum= 5\n"
     ]
    }
   ],
   "source": [
    "'''6. Create a function that can add unlimited numbers (arguments). [Hint: Use *args]\n",
    "e.g. Input: my_func(1, 2) --> 3\n",
    " Input: my_func(1, 2, 3) --> 6    '''\n",
    "\n",
    "def adder(*args):\n",
    "    sum=0\n",
    "    for n in args:\n",
    "        sum=sum+n\n",
    "    print('sum=',sum)\n",
    "adder(2,3)"
   ]
  },
  {
   "cell_type": "code",
   "execution_count": null,
   "id": "16bfbf41-2f7f-4553-82c1-def44d68a4ca",
   "metadata": {},
   "outputs": [],
   "source": []
  }
 ],
 "metadata": {
  "kernelspec": {
   "display_name": "Python 3 (ipykernel)",
   "language": "python",
   "name": "python3"
  },
  "language_info": {
   "codemirror_mode": {
    "name": "ipython",
    "version": 3
   },
   "file_extension": ".py",
   "mimetype": "text/x-python",
   "name": "python",
   "nbconvert_exporter": "python",
   "pygments_lexer": "ipython3",
   "version": "3.10.10"
  }
 },
 "nbformat": 4,
 "nbformat_minor": 5
}
