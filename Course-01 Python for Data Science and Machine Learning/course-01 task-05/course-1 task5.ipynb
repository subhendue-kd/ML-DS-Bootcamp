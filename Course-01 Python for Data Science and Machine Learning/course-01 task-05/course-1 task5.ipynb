{
 "cells": [
  {
   "cell_type": "code",
   "execution_count": 12,
   "id": "fc216dba-2a0d-45f0-9a59-10574a3001b9",
   "metadata": {},
   "outputs": [
    {
     "name": "stdout",
     "output_type": "stream",
     "text": [
      "CAR\n",
      "24\n",
      "34\n"
     ]
    }
   ],
   "source": [
    "'''1.Create a Vehicle class without any variables and methods.'''\n",
    "class Vehicle:    \n",
    "    def __init__(self,name,max_speed,mileage):        \n",
    "        self.nam=name \n",
    "        self.m_speed=max_speed\n",
    "        self.mile=mileage    \n",
    "    \n",
    "a=Vehicle(\"CAR\",24,34)\n",
    "print(a.nam)\n",
    "print(a.m_speed)\n",
    "print(a.mile)"
   ]
  },
  {
   "cell_type": "code",
   "execution_count": 18,
   "id": "c5de1465-0254-4628-bc27-cda7b0c6e85c",
   "metadata": {},
   "outputs": [
    {
     "name": "stdout",
     "output_type": "stream",
     "text": [
      "144\n"
     ]
    }
   ],
   "source": [
    "'''2. Create a Class with instance attributes.'''\n",
    "class Math:\n",
    "    def __init__(self,a):\n",
    "        self.a=a\n",
    "    def square(self):\n",
    "        return self.a*self.a\n",
    "s=Math(12)\n",
    "s1=s.square()\n",
    "print(s1)\n",
    "        "
   ]
  },
  {
   "cell_type": "code",
   "execution_count": 40,
   "id": "417c8d3b-5eab-43f5-9460-b14547c97d7b",
   "metadata": {},
   "outputs": [
    {
     "name": "stdout",
     "output_type": "stream",
     "text": [
      "SUPER SONY\n",
      "50\n",
      "10\n"
     ]
    }
   ],
   "source": [
    "'''3. Create a child class Bus that will inherit all of the variables and methods of the Vehicle class. Given:\n",
    "class Vehicle:\n",
    "    def __init__(self, name, max_speed, mileage):\n",
    "        self.name = name\n",
    "        self.max_speed = max_speed\n",
    "        self.mileage = mileage'''\n",
    "\n",
    "\n",
    "class Vehicle:    \n",
    "    def __init__(self,name,max_speed,mileage):       \n",
    "        self.nam=name        \n",
    "        self.m_speed=max_speed        \n",
    "        self.mile=mileage    \n",
    "   \n",
    "class Bus(Vehicle):\n",
    "        pass\n",
    "        \n",
    "          \n",
    "b=Bus('SUPER SONY',50,10)\n",
    "print(b.nam)\n",
    "print(b.m_speed)\n",
    "print(b.mile)\n",
    "        \n",
    "\n",
    "\n"
   ]
  },
  {
   "cell_type": "code",
   "execution_count": null,
   "id": "00e5c739-bedc-4316-ba31-73c6e21fce8f",
   "metadata": {},
   "outputs": [],
   "source": []
  }
 ],
 "metadata": {
  "kernelspec": {
   "display_name": "Python 3 (ipykernel)",
   "language": "python",
   "name": "python3"
  },
  "language_info": {
   "codemirror_mode": {
    "name": "ipython",
    "version": 3
   },
   "file_extension": ".py",
   "mimetype": "text/x-python",
   "name": "python",
   "nbconvert_exporter": "python",
   "pygments_lexer": "ipython3",
   "version": "3.10.10"
  }
 },
 "nbformat": 4,
 "nbformat_minor": 5
}
