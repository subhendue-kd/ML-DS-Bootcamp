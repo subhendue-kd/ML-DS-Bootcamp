{
 "cells": [
  {
   "cell_type": "code",
   "execution_count": null,
   "id": "eb6184d5-03ea-45e1-aa0b-f15c4f44d1bb",
   "metadata": {},
   "outputs": [],
   "source": [
    "# Python program to perform classification on Iris dataset\n",
    "\n",
    "# Run this program on your local Python interpreter\n",
    "# provided you have installed the required libraries\n",
    "\n",
    "# Importing the required libraries\n",
    "import numpy as np\n",
    "import pandas as pd\n",
    "from sklearn.model_selection import train_test_split\n",
    "from sklearn.metrics import accuracy_score\n",
    "from sklearn import datasets\n",
    "from sklearn import svm\n",
    "from sklearn.tree import DecisionTreeClassifier\n",
    "from sklearn.naive_bayes import GaussianNB\n",
    "\n",
    "# import the iris dataset\n",
    "iris = datasets.load_iris()\n",
    "X = iris.data\n",
    "y = iris.target\n",
    "\n",
    "# splitting X and y into training and testing sets\n",
    "X_train, X_test, y_train, y_test = train_test_split(X, y, test_size=0.3, random_state=1)\n",
    "\n",
    "# GAUSSIAN NAIVE BAYES\n",
    "gnb = GaussianNB()\n",
    "# train the model\n",
    "gnb.fit(X_train, y_train)\n",
    "# make predictions\n",
    "gnb_pred = gnb.predict(X_test)\n",
    "# print the accuracy\n",
    "print(\"Accuracy of Gaussian Naive Bayes: \", accuracy_score(y_test, gnb_pred))\n",
    "\n",
    "# DECISION TREE CLASSIFIER\n",
    "dt = DecisionTreeClassifier(random_state=0)\n",
    "# train the model\n",
    "dt.fit(X_train, y_train)\n",
    "# make predictions\n",
    "dt_pred = dt.predict(X_test)\n",
    "# print the accuracy\n",
    "print(\"Accuracy of Decision Tree Classifier: \", accuracy_score(y_test, dt_pred))\n",
    "\n",
    "# SUPPORT VECTOR MACHINE\n",
    "svm_clf = svm.SVC(kernel='linear') # Linear Kernel\n",
    "# train the model\n",
    "svm_clf.fit(X_train, y_train)\n",
    "# make predictions\n",
    "svm_clf_pred = svm_clf.predict(X_test)\n",
    "# print the accuracy\n",
    "print(\"Accuracy of Support Vector Machine: \",\n",
    "accuracy_score(y_test, svm_clf_pred))"
   ]
  },
  {
   "cell_type": "code",
   "execution_count": null,
   "id": "7528a18d-30c8-4147-abb8-3b9422f28480",
   "metadata": {},
   "outputs": [],
   "source": []
  }
 ],
 "metadata": {
  "kernelspec": {
   "display_name": "Python 3 (ipykernel)",
   "language": "python",
   "name": "python3"
  },
  "language_info": {
   "codemirror_mode": {
    "name": "ipython",
    "version": 3
   },
   "file_extension": ".py",
   "mimetype": "text/x-python",
   "name": "python",
   "nbconvert_exporter": "python",
   "pygments_lexer": "ipython3",
   "version": "3.10.10"
  }
 },
 "nbformat": 4,
 "nbformat_minor": 5
}
