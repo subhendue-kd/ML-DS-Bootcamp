{
 "cells": [
  {
   "cell_type": "markdown",
   "id": "db4f889a-d4bf-4305-820f-b59253918738",
   "metadata": {},
   "source": [
    "<h1>Decision tree's  entropy finding </h1>"
   ]
  },
  {
   "cell_type": "code",
   "execution_count": 1,
   "id": "90151f3f-def5-4527-9ce6-d493db368e01",
   "metadata": {},
   "outputs": [],
   "source": [
    "import numpy as np\n",
    "import math"
   ]
  },
  {
   "cell_type": "code",
   "execution_count": 5,
   "id": "13a2cc34-bdc3-4d1a-9001-b50f648d4f61",
   "metadata": {},
   "outputs": [],
   "source": [
    "def calc_entropy(feature):\n",
    "    counts = np.bincount(feature) #feature er moddha variation deklam\n",
    "    probability = counts / len(feature)\n",
    "    \n",
    "    for prob in probability:\n",
    "        if prob > 0:\n",
    "            entropy += prob * math.log(prob, 2)\n",
    "            \n",
    "    return -entropy"
   ]
  },
  {
   "cell_type": "markdown",
   "id": "7039996e-ca81-4d08-8248-8559fb99ef32",
   "metadata": {},
   "source": [
    "<h1>information gain</h1>"
   ]
  },
  {
   "cell_type": "code",
   "execution_count": 3,
   "id": "57144c9f-b1dc-490f-b0c3-ffc0ced80961",
   "metadata": {},
   "outputs": [],
   "source": [
    "def info_gain(data, feature, target):\n",
    "    entropy_0 = calc_entropy(data[target])\n",
    "    values = data[feature].unique()\n",
    "    \n",
    "    left_split = data[data[feature] == values[0]]\n",
    "    right_split = data[data[feature] == values[1]]\n",
    "    \n",
    "    for subet in [left_split, right_split]:\n",
    "        prob = subset.shape[0] / data.shape[0]\n",
    "        entropy_feat += prob * calc_entropy(subset[target])\n",
    "        \n",
    "        return entropy_0 - entropy_feat"
   ]
  },
  {
   "cell_type": "code",
   "execution_count": 4,
   "id": "7bcf1058-dc49-4a0f-a71d-abfd5447de93",
   "metadata": {},
   "outputs": [],
   "source": [
    "features = ['Age', 'Education']"
   ]
  },
  {
   "cell_type": "code",
   "execution_count": null,
   "id": "b5382210-d3f6-4231-9ab2-dd33519e4f8f",
   "metadata": {},
   "outputs": [],
   "source": []
  }
 ],
 "metadata": {
  "kernelspec": {
   "display_name": "Python 3 (ipykernel)",
   "language": "python",
   "name": "python3"
  },
  "language_info": {
   "codemirror_mode": {
    "name": "ipython",
    "version": 3
   },
   "file_extension": ".py",
   "mimetype": "text/x-python",
   "name": "python",
   "nbconvert_exporter": "python",
   "pygments_lexer": "ipython3",
   "version": "3.10.10"
  }
 },
 "nbformat": 4,
 "nbformat_minor": 5
}
