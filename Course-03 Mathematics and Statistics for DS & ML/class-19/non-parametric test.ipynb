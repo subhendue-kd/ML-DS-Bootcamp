{
 "cells": [
  {
   "cell_type": "markdown",
   "id": "004a5354-4335-4b48-83f1-878c0a4308e1",
   "metadata": {},
   "source": [
    "<h1>Shapiro-wilk test</h1>"
   ]
  },
  {
   "cell_type": "code",
   "execution_count": 1,
   "id": "4315fe28-1ff2-4e56-98ef-6594bf21ac3a",
   "metadata": {},
   "outputs": [],
   "source": [
    "import numpy as np\n",
    "import matplotlib.pyplot as plt\n",
    "from scipy.stats import shapiro"
   ]
  },
  {
   "cell_type": "code",
   "execution_count": 2,
   "id": "5728d162-8649-48e7-968e-29c031426711",
   "metadata": {},
   "outputs": [],
   "source": [
    "normal = np.random.normal(size=200) #noramlly distributed data nilam\n",
    "not_normal = np.random.uniform(size=200) # not normally distributed data nilam"
   ]
  },
  {
   "cell_type": "code",
   "execution_count": 3,
   "id": "1a795e50-32eb-4e3e-bb73-009bce8f9c17",
   "metadata": {},
   "outputs": [
    {
     "data": {
      "text/plain": [
       "(array([12., 25., 36., 50., 31., 21., 17.,  7.,  0.,  1.]),\n",
       " array([-2.03707998, -1.47007675, -0.90307351, -0.33607028,  0.23093296,\n",
       "         0.7979362 ,  1.36493943,  1.93194267,  2.4989459 ,  3.06594914,\n",
       "         3.63295237]),\n",
       " <BarContainer object of 10 artists>)"
      ]
     },
     "execution_count": 3,
     "metadata": {},
     "output_type": "execute_result"
    },
    {
     "data": {
      "image/png": "[encoded data removed]",
      "text/plain": [
       "<Figure size 640x480 with 1 Axes>"
      ]
     },
     "metadata": {},
     "output_type": "display_data"
    }
   ],
   "source": [
    "plt.hist(normal)"
   ]
  },
  {
   "cell_type": "code",
   "execution_count": 4,
   "id": "10a0fba1-9ee4-45ad-b240-b5416ab21461",
   "metadata": {},
   "outputs": [
    {
     "data": {
      "text/plain": [
       "(array([24., 23., 14., 15., 19., 25., 20., 20., 11., 29.]),\n",
       " array([0.00579161, 0.10489854, 0.20400548, 0.30311241, 0.40221935,\n",
       "        0.50132628, 0.60043321, 0.69954015, 0.79864708, 0.89775401,\n",
       "        0.99686095]),\n",
       " <BarContainer object of 10 artists>)"
      ]
     },
     "execution_count": 4,
     "metadata": {},
     "output_type": "execute_result"
    },
    {
     "data": {
      "image/png": "[encoded data removed]",
      "text/plain": [
       "<Figure size 640x480 with 1 Axes>"
      ]
     },
     "metadata": {},
     "output_type": "display_data"
    }
   ],
   "source": [
    "plt.hist(not_normal)"
   ]
  },
  {
   "cell_type": "code",
   "execution_count": 5,
   "id": "854e620b-2d3f-4e4f-b6f3-08de911ba43d",
   "metadata": {},
   "outputs": [
    {
     "data": {
      "text/plain": [
       "ShapiroResult(statistic=0.9853963851928711, pvalue=0.03659163415431976)"
      ]
     },
     "execution_count": 5,
     "metadata": {},
     "output_type": "execute_result"
    }
   ],
   "source": [
    "shapiro(normal)"
   ]
  },
  {
   "cell_type": "markdown",
   "id": "09e71cc6-2c70-46ad-aa93-a2af3203e212",
   "metadata": {},
   "source": [
    "<h>pvalue,a(alpha)=0.05 er basi tai null hypothesis accept. tai data ta normally distributed</h>"
   ]
  },
  {
   "cell_type": "code",
   "execution_count": 6,
   "id": "5ae80f06-fd1a-404b-aed1-a09db60775bd",
   "metadata": {},
   "outputs": [
    {
     "data": {
      "text/plain": [
       "ShapiroResult(statistic=0.9465428590774536, pvalue=8.88334113824385e-07)"
      ]
     },
     "execution_count": 6,
     "metadata": {},
     "output_type": "execute_result"
    }
   ],
   "source": [
    "shapiro(not_normal)"
   ]
  },
  {
   "cell_type": "markdown",
   "id": "93867877-e550-4f4d-aac3-e8db6ff1b677",
   "metadata": {},
   "source": [
    "<h>pvalue,a(alpha)=0.05 er kom tai alternative hypothesis accept. tai data ta normally distributed na</h>"
   ]
  },
  {
   "cell_type": "code",
   "execution_count": 7,
   "id": "1b8e7828-7ff1-409c-9bc6-d693fc942ae4",
   "metadata": {},
   "outputs": [
    {
     "name": "stderr",
     "output_type": "stream",
     "text": [
      "C:\\Users\\TIRTHO\\AppData\\Local\\Programs\\Python\\Python310\\lib\\site-packages\\scipy\\stats\\_morestats.py:1882: UserWarning: p-value may not be accurate for N > 5000.\n",
      "  warnings.warn(\"p-value may not be accurate for N > 5000.\")\n"
     ]
    },
    {
     "data": {
      "text/plain": [
       "ShapiroResult(statistic=0.9552944898605347, pvalue=2.0452007138759278e-39)"
      ]
     },
     "execution_count": 7,
     "metadata": {},
     "output_type": "execute_result"
    }
   ],
   "source": [
    "shapiro(np.random.uniform(size=6000)) #shapiro wilk test a 5000 er upor data nila problem kore"
   ]
  },
  {
   "cell_type": "markdown",
   "id": "8e3e7f06-d78a-44da-a607-dc7eb992e88f",
   "metadata": {},
   "source": [
    "<h1>Non-parametric Tests</h1>"
   ]
  },
  {
   "cell_type": "code",
   "execution_count": 8,
   "id": "77702dcf-864c-4e79-8918-754509cc8c4a",
   "metadata": {},
   "outputs": [],
   "source": [
    "# Test Dataset\n",
    "from numpy.random import seed, randn\n",
    "\n",
    "seed(1) #seed 1 korlam jate result chage na hoi\n",
    "\n",
    "data1 = 5 * randn(100) + 20\n",
    "data2 = 5 * randn(100) + 21\n",
    "data3 = 5 * randn(100) + 22"
   ]
  },
  {
   "cell_type": "code",
   "execution_count": 9,
   "id": "6758d4e3-99a2-4c23-979e-3de53ad6b59a",
   "metadata": {},
   "outputs": [
    {
     "data": {
      "text/plain": [
       "(20.302914260378497, 4.425781069157925)"
      ]
     },
     "execution_count": 9,
     "metadata": {},
     "output_type": "execute_result"
    }
   ],
   "source": [
    "np.mean(data1), np.std(data1)"
   ]
  },
  {
   "cell_type": "code",
   "execution_count": 10,
   "id": "91de4143-6560-48ea-9497-e5774261e027",
   "metadata": {},
   "outputs": [
    {
     "data": {
      "text/plain": [
       "(21.763973888100995, 4.6599740872749775)"
      ]
     },
     "execution_count": 10,
     "metadata": {},
     "output_type": "execute_result"
    }
   ],
   "source": [
    "np.mean(data2), np.std(data2)"
   ]
  },
  {
   "cell_type": "code",
   "execution_count": 11,
   "id": "0cd32037-6841-4712-9685-38c8c4127ff2",
   "metadata": {},
   "outputs": [
    {
     "name": "stdout",
     "output_type": "stream",
     "text": [
      "4025.0 0.017261846917598123\n",
      "Different Distribution (Reject H0)\n"
     ]
    }
   ],
   "source": [
    "# mann-whitney U test\n",
    "from scipy.stats import mannwhitneyu\n",
    "\n",
    "stat, p = mannwhitneyu(data1, data2)\n",
    "\n",
    "alpha = 0.05\n",
    "\n",
    "print(stat, p)\n",
    "if p <= alpha:\n",
    "    print(\"Different Distribution (Reject H0)\")\n",
    "else:\n",
    "    print(\"Same Distribution (Accept H0)\")"
   ]
  },
  {
   "cell_type": "code",
   "execution_count": 13,
   "id": "b52cd2cd-4677-4a8f-a609-8f2243a1436a",
   "metadata": {},
   "outputs": [
    {
     "name": "stdout",
     "output_type": "stream",
     "text": [
      "1886.0 0.02801404950478366\n",
      "Different Distribution (Reject H0)\n"
     ]
    }
   ],
   "source": [
    "# wilcoxon signed-rank\n",
    "from scipy.stats import wilcoxon\n",
    "\n",
    "stat, p = wilcoxon(data1, data2)\n",
    "stat, p\n",
    "\n",
    "alpha = 0.05\n",
    "\n",
    "print(stat, p)\n",
    "if p <= alpha:\n",
    "    print(\"Different Distribution (Reject H0)\")\n",
    "else:\n",
    "    print(\"Same Distribution (Accept H0)\")"
   ]
  },
  {
   "cell_type": "code",
   "execution_count": 17,
   "id": "bddfa91b-ecfc-4749-a676-53e01e97c099",
   "metadata": {},
   "outputs": [
    {
     "name": "stdout",
     "output_type": "stream",
     "text": [
      "7.575502990033328 0.02264646533645618\n",
      "Different Distribution (Reject H0)\n"
     ]
    }
   ],
   "source": [
    " # kruskal-wallis H test\n",
    "from scipy.stats import kruskal\n",
    "\n",
    "stat, p = kruskal(data1, data2, data3) #2ta er basi data nite hobe\n",
    "stat, p\n",
    "\n",
    "alpha = 0.05\n",
    "\n",
    "print(stat, p)\n",
    "if p <= alpha:\n",
    "    print(\"Different Distribution (Reject H0)\")\n",
    "else:\n",
    "    print(\"Same Distribution (Accept H0)\")"
   ]
  },
  {
   "cell_type": "code",
   "execution_count": 16,
   "id": "9e56ffd2-4ec3-4419-8a46-b94be54c6cfa",
   "metadata": {},
   "outputs": [
    {
     "name": "stdout",
     "output_type": "stream",
     "text": [
      "9.779999999999973 0.00752142247499337\n",
      "Different Distribution (Reject H0)\n"
     ]
    }
   ],
   "source": [
    "# friedman test\n",
    "from scipy.stats import friedmanchisquare\n",
    "\n",
    "stat, p = friedmanchisquare(data1, data2, data3)\n",
    "stat, p\n",
    "\n",
    "alpha = 0.05\n",
    "\n",
    "print(stat, p)\n",
    "if p <= alpha:\n",
    "    print(\"Different Distribution (Reject H0)\")\n",
    "else:\n",
    "    print(\"Same Distribution (Accept H0)\")"
   ]
  },
  {
   "cell_type": "code",
   "execution_count": null,
   "id": "0acb695b-4d7c-436a-9dab-5e0236cb078c",
   "metadata": {},
   "outputs": [],
   "source": []
  }
 ],
 "metadata": {
  "kernelspec": {
   "display_name": "Python 3 (ipykernel)",
   "language": "python",
   "name": "python3"
  },
  "language_info": {
   "codemirror_mode": {
    "name": "ipython",
    "version": 3
   },
   "file_extension": ".py",
   "mimetype": "text/x-python",
   "name": "python",
   "nbconvert_exporter": "python",
   "pygments_lexer": "ipython3",
   "version": "3.10.10"
  }
 },
 "nbformat": 4,
 "nbformat_minor": 5
}
